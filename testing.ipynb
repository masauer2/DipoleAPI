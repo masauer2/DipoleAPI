{
 "cells": [
  {
   "cell_type": "code",
   "execution_count": 11,
   "id": "initial_id",
   "metadata": {
    "collapsed": true,
    "ExecuteTime": {
     "end_time": "2024-09-25T20:37:41.748864Z",
     "start_time": "2024-09-25T20:37:41.742037Z"
    }
   },
   "outputs": [
    {
     "name": "stdout",
     "output_type": "stream",
     "text": [
      "[0]\n"
     ]
    }
   ],
   "source": [
    "import pandas as pd\n",
    "import numpy as np\n",
    "\n",
    "data = np.loadtxt(\"data.csv\", delimiter=\",\", dtype='str')\n",
    "print(np.where(data[:,0] == 'lysozyme')[0])\n",
    "#print(data.loc[data['name'] == 'lysozyme']['idx'])\n",
    "#print(type(data.loc[data['name'] == 'lysozyme']['idx']))"
   ]
  },
  {
   "cell_type": "code",
   "execution_count": 50,
   "outputs": [
    {
     "name": "stdout",
     "output_type": "stream",
     "text": [
      "[[None None None ... None None None]\n",
      " [None None None ... None None None]\n",
      " [None None None ... None None None]\n",
      " ...\n",
      " [None None None ... None None None]\n",
      " [None None None ... None None None]\n",
      " [None None None ... None None None]]\n"
     ]
    }
   ],
   "source": [
    "dataset = np.empty((5053,9), dtype=object)\n",
    "print(dataset)\n",
    "with open(\"data_2.csv\",\"r\") as data:\n",
    "    c = -1\n",
    "    for line in data:\n",
    "        line_split = line.split(\",\")\n",
    "        if len(line_split) == 9:\n",
    "            c = c + 1\n",
    "            dataset[c] = line_split"
   ],
   "metadata": {
    "collapsed": false,
    "ExecuteTime": {
     "end_time": "2024-09-25T20:57:58.123141Z",
     "start_time": "2024-09-25T20:57:58.104281Z"
    }
   },
   "id": "ce72206745b618d9"
  },
  {
   "cell_type": "code",
   "execution_count": 59,
   "outputs": [
    {
     "data": {
      "text/plain": "1.82854"
     },
     "execution_count": 59,
     "metadata": {},
     "output_type": "execute_result"
    }
   ],
   "source": [
    "dataset\n",
    "idx = np.where(dataset[:,0] == \"1oi7FH_A.pdb\")[0][0]\n",
    "float(dataset[idx,1])"
   ],
   "metadata": {
    "collapsed": false,
    "ExecuteTime": {
     "end_time": "2024-09-25T21:02:20.259507Z",
     "start_time": "2024-09-25T21:02:20.256257Z"
    }
   },
   "id": "118e3682ca418b4e"
  },
  {
   "cell_type": "code",
   "execution_count": null,
   "outputs": [],
   "source": [],
   "metadata": {
    "collapsed": false
   },
   "id": "d08f4f60a54e868a"
  }
 ],
 "metadata": {
  "kernelspec": {
   "display_name": "Python 3",
   "language": "python",
   "name": "python3"
  },
  "language_info": {
   "codemirror_mode": {
    "name": "ipython",
    "version": 2
   },
   "file_extension": ".py",
   "mimetype": "text/x-python",
   "name": "python",
   "nbconvert_exporter": "python",
   "pygments_lexer": "ipython2",
   "version": "2.7.6"
  }
 },
 "nbformat": 4,
 "nbformat_minor": 5
}
